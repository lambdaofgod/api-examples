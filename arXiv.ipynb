{
 "cells": [
  {
   "cell_type": "code",
   "execution_count": 1,
   "metadata": {},
   "outputs": [],
   "source": [
    "%matplotlib inline\n",
    "import matplotlib.pyplot as plt\n",
    "\n",
    "import pandas as pd\n",
    "import arxiv\n",
    "from collections import Counter\n",
    "from notebook_styling import print_bold"
   ]
  },
  {
   "cell_type": "markdown",
   "metadata": {},
   "source": [
    "## Query arXiv. \n",
    "\n",
    "Change seqrch_query if you're interested in something else "
   ]
  },
  {
   "cell_type": "code",
   "execution_count": 2,
   "metadata": {},
   "outputs": [
    {
     "name": "stdout",
     "output_type": "stream",
     "text": [
      "Query returned 100 results\n",
      "CPU times: user 84.1 ms, sys: 864 µs, total: 84.9 ms\n",
      "Wall time: 993 ms\n"
     ]
    }
   ],
   "source": [
    "%%time\n",
    "\n",
    "search_query = 'machine learning'\n",
    "\n",
    "response = arxiv.Search(query=search_query,\n",
    "                          max_results=100)\n",
    "\n",
    "results = list(response.results())\n",
    "\n",
    "print('Query returned {} results'.format(len(results)))"
   ]
  },
  {
   "cell_type": "markdown",
   "metadata": {},
   "source": [
    "#### Show some basic information on the articles"
   ]
  },
  {
   "cell_type": "code",
   "execution_count": 3,
   "metadata": {},
   "outputs": [
    {
     "data": {
      "text/markdown": [
       "**Lecture Notes: Optimization for Machine Learning**"
      ],
      "text/plain": [
       "<IPython.core.display.Markdown object>"
      ]
     },
     "metadata": {},
     "output_type": "display_data"
    },
    {
     "name": "stdout",
     "output_type": "stream",
     "text": [
      "Elad Hazan\n",
      "2019-09-08 21:49:42+00:00\n",
      "Lecture notes on optimization for machine learning, derived from a course at\n",
      "Princeton University and tutorials given in MLSS, Buenos Aires, as well as\n",
      "Simons Foundation, Berkeley.\n",
      "\n"
     ]
    },
    {
     "data": {
      "text/markdown": [
       "**An Optimal Control View of Adversarial Machine Learning**"
      ],
      "text/plain": [
       "<IPython.core.display.Markdown object>"
      ]
     },
     "metadata": {},
     "output_type": "display_data"
    },
    {
     "name": "stdout",
     "output_type": "stream",
     "text": [
      "Xiaojin Zhu\n",
      "2018-11-11 14:28:34+00:00\n",
      "I describe an optimal control view of adversarial machine learning, where the\n",
      "dynamical system is the machine learner, the input are adversarial actions, and\n",
      "the control costs are defined by the adversary's goals to do harm and be hard\n",
      "to detect. This view encompasses many types of adversarial machine learning,\n",
      "including test-item attacks, training-data poisoning, and adversarial reward\n",
      "shaping. The view encourages adversarial machine learning researcher to utilize\n",
      "advances in control theory and reinforcement learning.\n",
      "\n"
     ]
    },
    {
     "data": {
      "text/markdown": [
       "**Minimax deviation strategies for machine learning and recognition with short learning samples**"
      ],
      "text/plain": [
       "<IPython.core.display.Markdown object>"
      ]
     },
     "metadata": {},
     "output_type": "display_data"
    },
    {
     "name": "stdout",
     "output_type": "stream",
     "text": [
      "Michail Schlesinger, Evgeniy Vodolazskiy\n",
      "2017-07-16 09:15:08+00:00\n",
      "The article is devoted to the problem of small learning samples in machine\n",
      "learning. The flaws of maximum likelihood learning and minimax learning are\n",
      "looked into and the concept of minimax deviation learning is introduced that is\n",
      "free of those flaws.\n",
      "\n"
     ]
    },
    {
     "data": {
      "text/markdown": [
       "**Machine Learning for Clinical Predictive Analytics**"
      ],
      "text/plain": [
       "<IPython.core.display.Markdown object>"
      ]
     },
     "metadata": {},
     "output_type": "display_data"
    },
    {
     "name": "stdout",
     "output_type": "stream",
     "text": [
      "Wei-Hung Weng\n",
      "2019-09-19 22:02:00+00:00\n",
      "In this chapter, we provide a brief overview of applying machine learning\n",
      "techniques for clinical prediction tasks. We begin with a quick introduction to\n",
      "the concepts of machine learning and outline some of the most common machine\n",
      "learning algorithms. Next, we demonstrate how to apply the algorithms with\n",
      "appropriate toolkits to conduct machine learning experiments for clinical\n",
      "prediction tasks. The objectives of this chapter are to (1) understand the\n",
      "basics of machine learning techniques and the reasons behind why they are\n",
      "useful for solving clinical prediction problems, (2) understand the intuition\n",
      "behind some machine learning models, including regression, decision trees, and\n",
      "support vector machines, and (3) understand how to apply these models to\n",
      "clinical prediction problems using publicly available datasets via case\n",
      "studies.\n",
      "\n"
     ]
    },
    {
     "data": {
      "text/markdown": [
       "**Introduction to Machine Learning: Class Notes 67577**"
      ],
      "text/plain": [
       "<IPython.core.display.Markdown object>"
      ]
     },
     "metadata": {},
     "output_type": "display_data"
    },
    {
     "name": "stdout",
     "output_type": "stream",
     "text": [
      "Amnon Shashua\n",
      "2009-04-23 11:40:57+00:00\n",
      "Introduction to Machine learning covering Statistical Inference (Bayes, EM,\n",
      "ML/MaxEnt duality), algebraic and spectral methods (PCA, LDA, CCA, Clustering),\n",
      "and PAC learning (the Formal model, VC dimension, Double Sampling theorem).\n",
      "\n"
     ]
    },
    {
     "data": {
      "text/markdown": [
       "**The Tribes of Machine Learning and the Realm of Computer Architecture**"
      ],
      "text/plain": [
       "<IPython.core.display.Markdown object>"
      ]
     },
     "metadata": {},
     "output_type": "display_data"
    },
    {
     "name": "stdout",
     "output_type": "stream",
     "text": [
      "Ayaz Akram, Jason Lowe-Power\n",
      "2020-12-07 23:10:51+00:00\n",
      "Machine learning techniques have influenced the field of computer\n",
      "architecture like many other fields. This paper studies how the fundamental\n",
      "machine learning techniques can be applied towards computer architecture\n",
      "problems. We also provide a detailed survey of computer architecture research\n",
      "that employs different machine learning methods. Finally, we present some\n",
      "future opportunities and the outstanding challenges that need to be overcome to\n",
      "exploit full potential of machine learning for computer architecture.\n",
      "\n"
     ]
    },
    {
     "data": {
      "text/markdown": [
       "**A Machine Learning Tutorial for Operational Meteorology, Part I: Traditional Machine Learning**"
      ],
      "text/plain": [
       "<IPython.core.display.Markdown object>"
      ]
     },
     "metadata": {},
     "output_type": "display_data"
    },
    {
     "name": "stdout",
     "output_type": "stream",
     "text": [
      "Randy J. Chase, David R. Harrison, Amanda Burke, Gary M. Lackmann, Amy McGovern\n",
      "2022-04-15 14:48:04+00:00\n",
      "Recently, the use of machine learning in meteorology has increased greatly.\n",
      "While many machine learning methods are not new, university classes on machine\n",
      "learning are largely unavailable to meteorology students and are not required\n",
      "to become a meteorologist. The lack of formal instruction has contributed to\n",
      "perception that machine learning methods are 'black boxes' and thus end-users\n",
      "are hesitant to apply the machine learning methods in their every day workflow.\n",
      "To reduce the opaqueness of machine learning methods and lower hesitancy\n",
      "towards machine learning in meteorology, this paper provides a survey of some\n",
      "of the most common machine learning methods. A familiar meteorological example\n",
      "is used to contextualize the machine learning methods while also discussing\n",
      "machine learning topics using plain language. The following machine learning\n",
      "methods are demonstrated: linear regression; logistic regression; decision\n",
      "trees; random forest; gradient boosted decision trees; naive Bayes; and support\n",
      "vector machines. Beyond discussing the different methods, the paper also\n",
      "contains discussions on the general machine learning process as well as best\n",
      "practices to enable readers to apply machine learning to their own datasets.\n",
      "Furthermore, all code (in the form of Jupyter notebooks and Google Colaboratory\n",
      "notebooks) used to make the examples in the paper is provided in an effort to\n",
      "catalyse the use of machine learning in meteorology.\n",
      "\n"
     ]
    },
    {
     "data": {
      "text/markdown": [
       "**Position Paper: Towards Transparent Machine Learning**"
      ],
      "text/plain": [
       "<IPython.core.display.Markdown object>"
      ]
     },
     "metadata": {},
     "output_type": "display_data"
    },
    {
     "name": "stdout",
     "output_type": "stream",
     "text": [
      "Dustin Juliano\n",
      "2019-11-12 10:49:55+00:00\n",
      "Transparent machine learning is introduced as an alternative form of machine\n",
      "learning, where both the model and the learning system are represented in\n",
      "source code form. The goal of this project is to enable direct human\n",
      "understanding of machine learning models, giving us the ability to learn,\n",
      "verify, and refine them as programs. If solved, this technology could represent\n",
      "a best-case scenario for the safety and security of AI systems going forward.\n",
      "\n"
     ]
    },
    {
     "data": {
      "text/markdown": [
       "**Understanding Bias in Machine Learning**"
      ],
      "text/plain": [
       "<IPython.core.display.Markdown object>"
      ]
     },
     "metadata": {},
     "output_type": "display_data"
    },
    {
     "name": "stdout",
     "output_type": "stream",
     "text": [
      "Jindong Gu, Daniela Oelke\n",
      "2019-09-02 20:36:19+00:00\n",
      "Bias is known to be an impediment to fair decisions in many domains such as\n",
      "human resources, the public sector, health care etc. Recently, hope has been\n",
      "expressed that the use of machine learning methods for taking such decisions\n",
      "would diminish or even resolve the problem. At the same time, machine learning\n",
      "experts warn that machine learning models can be biased as well. In this\n",
      "article, our goal is to explain the issue of bias in machine learning from a\n",
      "technical perspective and to illustrate the impact that biased data can have on\n",
      "a machine learning model. To reach such a goal, we develop interactive plots to\n",
      "visualizing the bias learned from synthetic data.\n",
      "\n"
     ]
    },
    {
     "data": {
      "text/markdown": [
       "**A Unified Analytical Framework for Trustable Machine Learning and Automation Running with Blockchain**"
      ],
      "text/plain": [
       "<IPython.core.display.Markdown object>"
      ]
     },
     "metadata": {},
     "output_type": "display_data"
    },
    {
     "name": "stdout",
     "output_type": "stream",
     "text": [
      "Tao Wang\n",
      "2019-03-21 02:17:08+00:00\n",
      "Traditional machine learning algorithms use data from databases that are\n",
      "mutable, and therefore the data cannot be fully trusted. Also, the machine\n",
      "learning process is difficult to automate. This paper proposes building a\n",
      "trustable machine learning system by using blockchain technology, which can\n",
      "store data in a permanent and immutable way. In addition, smart contracts are\n",
      "used to automate the machine learning process. This paper makes three\n",
      "contributions. First, it establishes a link between machine learning technology\n",
      "and blockchain technology. Previously, machine learning and blockchain have\n",
      "been considered two independent technologies without an obvious link. Second,\n",
      "it proposes a unified analytical framework for trustable machine learning by\n",
      "using blockchain technology. This unified framework solves both the\n",
      "trustability and automation issues in machine learning. Third, it enables a\n",
      "computer to translate core machine learning implementation from a single thread\n",
      "on a single machine to multiple threads on multiple machines running with\n",
      "blockchain by using a unified approach. The paper uses association rule mining\n",
      "as an example to demonstrate how trustable machine learning can be implemented\n",
      "with blockchain, and it shows how this approach can be used to analyze opioid\n",
      "prescriptions to help combat the opioid crisis.\n",
      "\n"
     ]
    }
   ],
   "source": [
    "for entry in results[:10]:\n",
    "    print_bold(entry.title)\n",
    "    print(', '.join(map(str, entry.authors)))\n",
    "    print(entry.published)\n",
    "    print(entry.summary)\n",
    "    print()"
   ]
  },
  {
   "cell_type": "markdown",
   "metadata": {},
   "source": [
    "### Papers' categories.\n",
    "\n",
    "See [arXiv categories](http://arxitics.com/help/categories) for details."
   ]
  },
  {
   "cell_type": "code",
   "execution_count": 4,
   "metadata": {},
   "outputs": [],
   "source": [
    "category_prefix_counter = Counter(\n",
    "  c.split('.')[0]\n",
    "    for entry in results\n",
    "    for c in entry.categories\n",
    ")\n",
    "\n",
    "category_counter = Counter(\n",
    "    c\n",
    "    for entry in results\n",
    "    for c in entry.categories\n",
    ")"
   ]
  },
  {
   "cell_type": "code",
   "execution_count": 5,
   "metadata": {},
   "outputs": [],
   "source": [
    "categories = sorted(category_counter.items(), key=lambda p: p[1], reverse=True)"
   ]
  },
  {
   "cell_type": "code",
   "execution_count": 6,
   "metadata": {},
   "outputs": [
    {
     "data": {
      "image/png": "[encoded data removed]",
      "text/plain": [
       "<Figure size 432x288 with 1 Axes>"
      ]
     },
     "metadata": {
      "needs_background": "light"
     },
     "output_type": "display_data"
    }
   ],
   "source": [
    "pd.DataFrame.from_dict(\n",
    "  data=dict(categories[:50]),\n",
    "  orient='index').plot.bar()\n",
    "plt.show()"
   ]
  },
  {
   "cell_type": "markdown",
   "metadata": {},
   "source": [
    "## Category prefixes\n",
    "\n",
    "We cluster categories to get a more high-level description of categories."
   ]
  },
  {
   "cell_type": "code",
   "execution_count": 7,
   "metadata": {},
   "outputs": [],
   "source": [
    "category_prefixes = sorted(category_prefix_counter.items(), key=lambda p: p[1], reverse=True)"
   ]
  },
  {
   "cell_type": "code",
   "execution_count": 8,
   "metadata": {},
   "outputs": [
    {
     "data": {
      "image/png": "[encoded data removed]",
      "text/plain": [
       "<Figure size 432x288 with 1 Axes>"
      ]
     },
     "metadata": {
      "needs_background": "light"
     },
     "output_type": "display_data"
    }
   ],
   "source": [
    "pd.DataFrame.from_dict(data=category_prefix_counter, orient='index').plot.bar()\n",
    "plt.show()"
   ]
  }
 ],
 "metadata": {
  "hide_input": false,
  "kernelspec": {
   "display_name": "Python 3",
   "language": "python",
   "name": "python3"
  },
  "language_info": {
   "codemirror_mode": {
    "name": "ipython",
    "version": 3
   },
   "file_extension": ".py",
   "mimetype": "text/x-python",
   "name": "python",
   "nbconvert_exporter": "python",
   "pygments_lexer": "ipython3",
   "version": "3.8.10"
  }
 },
 "nbformat": 4,
 "nbformat_minor": 4
}
